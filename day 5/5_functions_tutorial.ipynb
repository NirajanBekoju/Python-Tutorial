{
 "cells": [
  {
   "cell_type": "markdown",
   "id": "ea0797b6",
   "metadata": {},
   "source": [
    "# Python Functions Tutorial"
   ]
  },
  {
   "cell_type": "markdown",
   "id": "201c9a72",
   "metadata": {},
   "source": [
    "## 1. Function Definition, Parameters, and Return Statements"
   ]
  },
  {
   "cell_type": "markdown",
   "id": "09c45884",
   "metadata": {},
   "source": [
    "\n",
    "- Functions are defined using the `def` keyword.\n",
    "- Parameters are inputs to functions.\n",
    "- `return` sends back a result from the function.\n"
   ]
  },
  {
   "cell_type": "code",
   "execution_count": 1,
   "id": "eccb9e78",
   "metadata": {},
   "outputs": [
    {
     "name": "stdout",
     "output_type": "stream",
     "text": [
      "Hello, Alice!\n"
     ]
    }
   ],
   "source": [
    "\n",
    "def greet(name):\n",
    "    return f\"Hello, {name}!\"\n",
    "\n",
    "print(greet(\"Alice\"))\n"
   ]
  },
  {
   "cell_type": "markdown",
   "id": "96f1f203",
   "metadata": {},
   "source": [
    "## Exercise 1\n",
    "#### Q1 : Write a function area_of_rectangle(length, width) that returns the area of a rectangle.\n",
    "\n",
    "#### Q2 : Create a function is_even(number) that returns True if the number is even, otherwise False.\n",
    "\n",
    "#### Q3 : Create a function that takes a list of number as parameter, and return the list with sqaure of even numbers and cube of odd numbers. The order of number should be preserved.\n",
    "\n",
    "```\n",
    "Input : [5, 3, 6, 7, 1, 2]\n",
    "\n",
    "Output : [125, 27, 36, 343, 1, 4]\n",
    "```\n",
    "\n",
    "#### Q4 : Write a Python function that takes a list of words as input and returns a dictionary showing how many times each word appears in the list.\n",
    "\n",
    "```\n",
    "Input : \n",
    "\n",
    "words = ['apple', 'banana', 'apple', 'orange', 'banana', 'apple']\n",
    "\n",
    "Output : \n",
    "\n",
    "{'apple': 3, 'banana': 2, 'orange': 1}\n",
    "\n",
    "```\n",
    "\n",
    "#### Q5 : Write a Python function that calculates the average grade for each student given a dictionary of their scores.\n",
    "\n",
    "**Hint : sum([1, 2, 3]) provides sum of a list**\n",
    "\n",
    "```\n",
    "input : \n",
    "\n",
    "grades = {\n",
    "    'Alice': [85, 90, 78],\n",
    "    'Bob': [70, 80, 65],\n",
    "    'Charlie': [100, 95, 90]\n",
    "}\n",
    "\n",
    "\n",
    "output : \n",
    "\n",
    "{\n",
    "    'Alice': 84.33,\n",
    "    'Bob': 71.67,\n",
    "    'Charlie': 95.0\n",
    "}\n",
    "```"
   ]
  },
  {
   "cell_type": "markdown",
   "id": "af51f200",
   "metadata": {},
   "source": [
    "## 2. Default Parameters, Keyword Arguments, and Docstrings"
   ]
  },
  {
   "cell_type": "markdown",
   "id": "a2ac5414",
   "metadata": {},
   "source": [
    "\n",
    "- Default parameters are used when an argument is not passed.\n",
    "- Keyword arguments allow passing parameters by name.\n",
    "- Docstrings are string literals used to describe functions.\n"
   ]
  },
  {
   "cell_type": "code",
   "execution_count": null,
   "id": "fde5aee1",
   "metadata": {},
   "outputs": [
    {
     "name": "stdout",
     "output_type": "stream",
     "text": [
      "9\n",
      "32\n",
      "Returns the base raised to the power of exponent.\n"
     ]
    }
   ],
   "source": [
    "def power(base, exponent=2):\n",
    "    \"\"\"Returns the base raised to the power of exponent.\"\"\"\n",
    "    return base ** exponent\n",
    "\n",
    "print(power(3))\n",
    "print(power(base=2, exponent=5))\n",
    "print(power.__doc__)"
   ]
  },
  {
   "cell_type": "code",
   "execution_count": 3,
   "id": "1c6c4b01",
   "metadata": {},
   "outputs": [
    {
     "name": "stdout",
     "output_type": "stream",
     "text": [
      "Help on function power in module __main__:\n",
      "\n",
      "power(base, exponent=2)\n",
      "    Returns the base raised to the power of exponent.\n",
      "\n"
     ]
    }
   ],
   "source": [
    "help(power)"
   ]
  },
  {
   "cell_type": "markdown",
   "id": "38545e8c",
   "metadata": {},
   "source": [
    "## Exercise 2\n",
    "#### Q3 : Write a function greet(name, message=\"Welcome!\") that prints a greeting. Demonstrate it with default and keyword arguments.\n",
    "\n",
    "#### Q4 : Define a function multiply(a, b=2) with a docstring. Call it using positional and keyword arguments."
   ]
  },
  {
   "cell_type": "markdown",
   "id": "aecf0dc9",
   "metadata": {},
   "source": [
    "## 3. *args and **kwargs"
   ]
  },
  {
   "cell_type": "markdown",
   "id": "09f7c86e",
   "metadata": {},
   "source": [
    "\n",
    "- `*args` allows variable number of positional arguments.\n",
    "- `**kwargs` allows variable number of keyword arguments.\n"
   ]
  },
  {
   "cell_type": "code",
   "execution_count": 10,
   "id": "77fe1959",
   "metadata": {},
   "outputs": [
    {
     "name": "stdout",
     "output_type": "stream",
     "text": [
      "(1, 2, 4, 5)\n",
      "<class 'tuple'>\n"
     ]
    }
   ],
   "source": [
    "def tempFunction1(*args):\n",
    "    print(args)\n",
    "    print(type(args))\n",
    "\n",
    "tempFunction1(1, 2, 4, 5)"
   ]
  },
  {
   "cell_type": "code",
   "execution_count": 8,
   "id": "28eb47d7",
   "metadata": {},
   "outputs": [
    {
     "name": "stdout",
     "output_type": "stream",
     "text": [
      "{'name': 'nirajan', 'location': 'bkt'}\n",
      "nirajan\n"
     ]
    }
   ],
   "source": [
    "def tempFunction2(**kwargs):\n",
    "    print(kwargs)\n",
    "    print(kwargs['name'])\n",
    "\n",
    "tempFunction2(name = 'nirajan', location = 'bkt')        "
   ]
  },
  {
   "cell_type": "code",
   "execution_count": 4,
   "id": "ff66f21c",
   "metadata": {},
   "outputs": [
    {
     "name": "stdout",
     "output_type": "stream",
     "text": [
      "Positional arguments: (1, 2, 3)\n",
      "Keyword arguments: {'name': 'Alice', 'age': 25}\n"
     ]
    }
   ],
   "source": [
    "\n",
    "def show_args(*args, **kwargs):\n",
    "    print(\"Positional arguments:\", args)\n",
    "    print(\"Keyword arguments:\", kwargs)\n",
    "\n",
    "show_args(1, 2, 3, name=\"Alice\", age=25)\n"
   ]
  },
  {
   "cell_type": "code",
   "execution_count": 20,
   "id": "e9912405",
   "metadata": {},
   "outputs": [
    {
     "name": "stdout",
     "output_type": "stream",
     "text": [
      "1\n",
      "('apple', 'mango')\n",
      "{'fruit': 'grapes', 'city': 'pokhara'}\n"
     ]
    }
   ],
   "source": [
    "def func3(a, *args, **kwargs):\n",
    "    print(a)\n",
    "    print(args)\n",
    "    print(kwargs)\n",
    "\n",
    "\n",
    "func3(1, 'apple', 'mango', fruit = 'grapes', city = 'pokhara')"
   ]
  },
  {
   "cell_type": "markdown",
   "id": "db81ddff",
   "metadata": {},
   "source": [
    "## Exercise\n",
    "#### Q5 : Write a function sum_all(*numbers) that returns the sum of all arguments passed to it.\n",
    "\n",
    "#### Q6 : Create a function print_student_details(**details) that prints each key-value pair passed as keyword arguments.\n",
    "**Hint: Use dict.items() function**\n",
    "\n",
    "Function call: \n",
    "```\n",
    "print_student_details(name=\"Sita\", age=20, grade=\"A\", address=\"Kathmandu\")\n",
    "```\n",
    "\n",
    "Output:\n",
    "```\n",
    "name: Sita\n",
    "age: 20\n",
    "grade: A\n",
    "address: Janakpur\n",
    "```"
   ]
  },
  {
   "cell_type": "markdown",
   "id": "676cbef2",
   "metadata": {},
   "source": [
    "## 4. Scope: Local, Global, and Nonlocal"
   ]
  },
  {
   "cell_type": "markdown",
   "id": "003662b6",
   "metadata": {},
   "source": [
    "\n",
    "- Local: Defined inside a function.\n",
    "- Global: Defined at the top level.\n"
   ]
  },
  {
   "cell_type": "code",
   "execution_count": 4,
   "id": "ff98fcee",
   "metadata": {},
   "outputs": [
    {
     "name": "stdout",
     "output_type": "stream",
     "text": [
      "this is a local variable\n",
      "this is a global variable\n"
     ]
    }
   ],
   "source": [
    "x = 'this is a global variable'\n",
    "\n",
    "def func1():\n",
    "    x = 'this is a local variable'\n",
    "    print(x) ## --> local variable\n",
    "\n",
    "\n",
    "func1()\n",
    "print(x) # --> global variable\n"
   ]
  },
  {
   "cell_type": "markdown",
   "id": "9c392997",
   "metadata": {},
   "source": [
    "## 5. Methods vs. Functions"
   ]
  },
  {
   "cell_type": "markdown",
   "id": "2f03d373",
   "metadata": {},
   "source": [
    "\n",
    "- Functions are defined using `def` and are independent.\n",
    "- Methods are functions associated with objects (e.g., strings, lists).\n"
   ]
  },
  {
   "cell_type": "code",
   "execution_count": null,
   "id": "5361e08b",
   "metadata": {},
   "outputs": [],
   "source": [
    "# Function\n",
    "def add(a, b):\n",
    "    return a + b\n",
    "\n",
    "# Method (associated with string object)\n",
    "text = \"hello\"\n",
    "print(text.upper())\n",
    "\n",
    "print(add(5, 10))\n"
   ]
  },
  {
   "cell_type": "markdown",
   "id": "5044a962",
   "metadata": {},
   "source": [
    "## Problem Solving Exercise\n",
    "\n",
    "#### Q7: Common Elements Between Two Lists\n",
    "Write a function common_elements(list1, list2) that returns a list of elements common to both lists.\n",
    "\n",
    "#### Q8: Second Largest Element\n",
    "Write a function second_largest(lst) that returns the second largest number in a list.\n",
    "\n",
    "#### Q9: Rotate List Elements\n",
    "Write a function rotate_list(lst, k) that rotates the list k steps to the right.\n",
    "\n",
    "Input: \n",
    "```\n",
    "lst = [1, 2, 3, 4, 5, 6, 7]\n",
    "k = 3\n",
    "```\n",
    "\n",
    "Output:\n",
    "```\n",
    "[5, 6, 7, 1, 2, 3, 4]\n",
    "```"
   ]
  },
  {
   "cell_type": "code",
   "execution_count": 29,
   "id": "7f2386f4",
   "metadata": {},
   "outputs": [
    {
     "data": {
      "text/plain": [
       "['mango', 'apple']"
      ]
     },
     "execution_count": 29,
     "metadata": {},
     "output_type": "execute_result"
    }
   ],
   "source": [
    "list1 = ['apple', 'mango', 'banana']\n",
    "list2 = ['asdlf', 'asdf', 'mango', 'apple', 'asdfkjsdi']\n",
    "\n",
    "list(set(list1).intersection(set(list2)))"
   ]
  },
  {
   "cell_type": "code",
   "execution_count": null,
   "id": "6927709c",
   "metadata": {},
   "outputs": [],
   "source": []
  }
 ],
 "metadata": {
  "kernelspec": {
   "display_name": "python_tutorial",
   "language": "python",
   "name": "python3"
  },
  "language_info": {
   "codemirror_mode": {
    "name": "ipython",
    "version": 3
   },
   "file_extension": ".py",
   "mimetype": "text/x-python",
   "name": "python",
   "nbconvert_exporter": "python",
   "pygments_lexer": "ipython3",
   "version": "3.13.4"
  }
 },
 "nbformat": 4,
 "nbformat_minor": 5
}
