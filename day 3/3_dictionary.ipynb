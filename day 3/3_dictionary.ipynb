{
 "cells": [
  {
   "cell_type": "markdown",
   "id": "f44f8bac",
   "metadata": {},
   "source": [
    "## Dictionaries\n",
    "\n",
    "- Dictionaries are used to store data values in key:value pairs."
   ]
  },
  {
   "cell_type": "markdown",
   "id": "7e85b2d9",
   "metadata": {},
   "source": [
    "### Creating and Accessing Dictionary"
   ]
  },
  {
   "cell_type": "code",
   "execution_count": null,
   "id": "315f0292",
   "metadata": {},
   "outputs": [
    {
     "name": "stdout",
     "output_type": "stream",
     "text": [
      "Alice\n"
     ]
    }
   ],
   "source": [
    "person = {\n",
    "    'name': 'Alice', \n",
    "    'age': 25\n",
    "    }\n",
    "print(person['name'])  # Accessing value by key"
   ]
  },
  {
   "cell_type": "markdown",
   "id": "0f6cb2f8",
   "metadata": {},
   "source": [
    "### Adding, Updating, and Removing Elements"
   ]
  },
  {
   "cell_type": "code",
   "execution_count": 13,
   "id": "129d7296",
   "metadata": {},
   "outputs": [
    {
     "name": "stdout",
     "output_type": "stream",
     "text": [
      "{'name': 'Alice', 'age': 50, 'city': 'Kathmandu'}\n"
     ]
    }
   ],
   "source": [
    "## add city\n",
    "person['city'] = 'Kathmandu'\n",
    "\n",
    "## update age\n",
    "person['age'] = 50\n",
    "print(person)"
   ]
  },
  {
   "cell_type": "code",
   "execution_count": 14,
   "id": "c608ba0c",
   "metadata": {},
   "outputs": [
    {
     "name": "stdout",
     "output_type": "stream",
     "text": [
      "{'age': 50, 'city': 'Kathmandu'}\n"
     ]
    }
   ],
   "source": [
    "## delete name\n",
    "del person['name']\n",
    "print(person)"
   ]
  },
  {
   "cell_type": "markdown",
   "id": "7a026c91",
   "metadata": {},
   "source": [
    "### Dictionary Methods\n",
    "\n",
    "| Method         | Description                                  | Example Code                              | Output                  |\n",
    "| -------------- | -------------------------------------------- | ----------------------------------------- | ------------------------ |\n",
    "| `keys()`       | Returns a list of dictionary keys             | `d = {'a': 1}`<br>`d.keys()`              | `dict_keys(['a'])`       |\n",
    "| `values()`     | Returns a list of dictionary values           | `d = {'a': 1}`<br>`d.values()`            | `dict_values([1])`       |\n",
    "| `items()`      | Returns a list of key-value tuple pairs       | `d = {'a': 1}`<br>`d.items()`             | `dict_items([('a', 1)])` |\n",
    "| `get()`        | Returns value for key if key exists           | `d = {'a': 1}`<br>`d.get('a')`            | `1`                     |\n",
    "| `update()`     | Updates dictionary with another dictionary    | `d.update({'b': 2})`                      | `{'a': 1, 'b': 2}`       |\n",
    "| `pop()`        | Removes and returns value for key             | `d.pop('a')`                              | `1` and `{'b': 2}`       |\n",
    "| `clear()`      | Removes all items                            | `d.clear()`                               | `{}`                     |"
   ]
  },
  {
   "cell_type": "markdown",
   "id": "38ea7e62",
   "metadata": {},
   "source": [
    " Create a dictionary with movie data (title, year, rating)\n",
    "Tasks:\n",
    "\n",
    "- Access the title.\n",
    "- Update the rating.\n",
    "- Add a new key: 'actor'.\n",
    "- Delete the year.\n",
    "- Print all keys and values."
   ]
  },
  {
   "cell_type": "code",
   "execution_count": null,
   "id": "2836ae30",
   "metadata": {},
   "outputs": [],
   "source": []
  }
 ],
 "metadata": {
  "kernelspec": {
   "display_name": "python_tutorial",
   "language": "python",
   "name": "python3"
  },
  "language_info": {
   "codemirror_mode": {
    "name": "ipython",
    "version": 3
   },
   "file_extension": ".py",
   "mimetype": "text/x-python",
   "name": "python",
   "nbconvert_exporter": "python",
   "pygments_lexer": "ipython3",
   "version": "3.13.4"
  }
 },
 "nbformat": 4,
 "nbformat_minor": 5
}
