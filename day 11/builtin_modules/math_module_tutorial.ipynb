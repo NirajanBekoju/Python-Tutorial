{
 "cells": [
  {
   "cell_type": "markdown",
   "id": "ec710ccc",
   "metadata": {},
   "source": [
    "## Math Module\n",
    "| Method            | Description                                  | Example                          |\n",
    "|-------------------|----------------------------------------------|---------------------------------|\n",
    "| `math.sqrt(x)`    | Returns the square root of `x`.               | `math.sqrt(16)` → `4.0`          |\n",
    "| `math.ceil(x)`    | Returns the smallest integer ≥ `x` (ceiling).| `math.ceil(4.2)` → `5`           |\n",
    "| `math.floor(x)`   | Returns the largest integer ≤ `x` (floor).   | `math.floor(4.8)` → `4`          |\n",
    "| `math.factorial(x)`| Returns factorial of `x` (x!).                | `math.factorial(5)` → `120`      |\n",
    "| `math.pow(x, y)`  | Returns `x` raised to the power `y` (x^y).   | `math.pow(2, 3)` → `8.0`         |\n",
    "| `math.exp(x)`     | Returns e^x, the exponential of `x`.          | `math.exp(1)` → `2.718281828...` |\n",
    "| `math.log(x)`     | Returns natural logarithm (base e) of `x`.   | `math.log(math.e)` → `1.0`       |\n",
    "| `math.log10(x)`   | Returns base-10 logarithm of `x`.             | `math.log10(1000)` → `3.0`       |\n",
    "| `math.sin(x)`     | Returns sine of `x` (x in radians).           | `math.sin(math.pi/2)` → `1.0`    |\n",
    "| `math.cos(x)`     | Returns cosine of `x` (x in radians).         | `math.cos(0)` → `1.0`            |\n",
    "| `math.tan(x)`     | Returns tangent of `x` (x in radians).        | `math.tan(0)` → `0.0`            |\n",
    "| `math.degrees(x)` | Converts radians to degrees.                   | `math.degrees(math.pi)` → `180`  |\n",
    "| `math.radians(x)` | Converts degrees to radians.                   | `math.radians(180)` → `3.14159`  |\n",
    "| `math.isclose(a, b, rel_tol=1e-9)` | Checks if `a` and `b` are approximately equal. | `math.isclose(0.1+0.2, 0.3)` → `True` |\n",
    "| `math.gcd(a, b)`  | Returns greatest common divisor of `a` and `b`.| `math.gcd(12, 18)` → `6`         |\n",
    "| `math.fabs(x)`    | Returns the absolute value of `x` (float).    | `math.fabs(-5.5)` → `5.5`        |\n"
   ]
  },
  {
   "cell_type": "code",
   "execution_count": null,
   "id": "e8a37f84",
   "metadata": {},
   "outputs": [],
   "source": []
  }
 ],
 "metadata": {
  "language_info": {
   "name": "python"
  }
 },
 "nbformat": 4,
 "nbformat_minor": 5
}
