{
 "cells": [
  {
   "cell_type": "markdown",
   "id": "a37b212d",
   "metadata": {},
   "source": [
    "# NumPy Tutorial for Beginners\n",
    "\n",
    "**NumPy** (Numerical Python) is a powerful library for numerical computations in Python. It supports large multi-dimensional arrays and matrices, along with a collection of high-level mathematical functions to operate on these arrays."
   ]
  },
  {
   "cell_type": "code",
   "execution_count": 2,
   "id": "1a72457d",
   "metadata": {},
   "outputs": [],
   "source": [
    "# !pip install numpy"
   ]
  },
  {
   "cell_type": "markdown",
   "id": "17f3a10e",
   "metadata": {},
   "source": [
    "## Importing NumPy"
   ]
  },
  {
   "cell_type": "code",
   "execution_count": 3,
   "id": "1360d940",
   "metadata": {},
   "outputs": [],
   "source": [
    "import numpy as np"
   ]
  },
  {
   "cell_type": "markdown",
   "id": "02d455dd",
   "metadata": {},
   "source": [
    "## Creating Arrays\n",
    "### From Python List"
   ]
  },
  {
   "cell_type": "code",
   "execution_count": 5,
   "id": "c67c5238",
   "metadata": {},
   "outputs": [
    {
     "name": "stdout",
     "output_type": "stream",
     "text": [
      "[1 2 3]\n",
      "<class 'numpy.ndarray'>\n"
     ]
    }
   ],
   "source": [
    "arr = np.array([1, 2, 3])\n",
    "print(arr)\n",
    "print(type(arr))"
   ]
  },
  {
   "cell_type": "markdown",
   "id": "0a3e5b56",
   "metadata": {},
   "source": [
    "### 2D Array (Matrix)"
   ]
  },
  {
   "cell_type": "code",
   "execution_count": 6,
   "id": "27c5697e",
   "metadata": {},
   "outputs": [
    {
     "name": "stdout",
     "output_type": "stream",
     "text": [
      "[[1 2]\n",
      " [3 4]]\n"
     ]
    }
   ],
   "source": [
    "arr2d = np.array([[1, 2], [3, 4]])\n",
    "print(arr2d)"
   ]
  },
  {
   "cell_type": "markdown",
   "id": "0d4d855a",
   "metadata": {},
   "source": [
    "## Array Properties"
   ]
  },
  {
   "cell_type": "code",
   "execution_count": 8,
   "id": "6f0209ba",
   "metadata": {},
   "outputs": [
    {
     "name": "stdout",
     "output_type": "stream",
     "text": [
      "Shape: (2, 2)\n",
      "Size: 4\n",
      "Data type: int64\n"
     ]
    }
   ],
   "source": [
    "print(\"Shape:\", arr2d.shape)  # this is a 2 * 2 matrix\n",
    "print(\"Size:\", arr2d.size) # gives total number of elements in the array\n",
    "print(\"Data type:\", arr2d.dtype) # data types of the elements in the array "
   ]
  },
  {
   "cell_type": "markdown",
   "id": "c2e35d5b",
   "metadata": {},
   "source": [
    "## Array Creation Functions"
   ]
  },
  {
   "cell_type": "code",
   "execution_count": 10,
   "id": "7574a365",
   "metadata": {},
   "outputs": [
    {
     "name": "stdout",
     "output_type": "stream",
     "text": [
      "[[0. 0. 0.]\n",
      " [0. 0. 0.]]\n",
      "\n",
      "[[1. 1.]\n",
      " [1. 1.]]\n",
      "\n",
      "[[5 5]\n",
      " [5 5]]\n"
     ]
    }
   ],
   "source": [
    "print(np.zeros((2, 3)))  ## create numpy array of size 2 * 3 with all value = 0\n",
    "print()\n",
    "print(np.ones((2, 2)))  ## create numpy array of size 2 * 2 with all value = 1\n",
    "print()\n",
    "print(np.full((2, 2), 5))  ## create numpy array of size 2 * 2 with all value = 5"
   ]
  },
  {
   "cell_type": "code",
   "execution_count": 12,
   "id": "955b07b0",
   "metadata": {},
   "outputs": [
    {
     "name": "stdout",
     "output_type": "stream",
     "text": [
      "[[1. 0. 0.]\n",
      " [0. 1. 0.]\n",
      " [0. 0. 1.]]\n",
      "\n",
      "[0 2 4 6 8]\n",
      "\n",
      "[0.   0.25 0.5  0.75 1.  ]\n",
      "\n"
     ]
    }
   ],
   "source": [
    "print(np.eye(3))    ## create an identity matrix of size 3 * 3\n",
    "print()\n",
    "print(np.arange(0, 10, 2))  ## arange(start, stop, step) --> then into the 1d array\n",
    "print()\n",
    "print(np.linspace(0, 1, 5))  ## linspace(start, stop, no. of division)\n",
    "print()"
   ]
  },
  {
   "cell_type": "markdown",
   "id": "5b641d9f",
   "metadata": {},
   "source": [
    "## Indexing and Slicing"
   ]
  },
  {
   "cell_type": "code",
   "execution_count": 14,
   "id": "594003f2",
   "metadata": {},
   "outputs": [
    {
     "name": "stdout",
     "output_type": "stream",
     "text": [
      "[10 20 30 40]\n",
      "20\n",
      "[20 30]\n"
     ]
    }
   ],
   "source": [
    "a = np.array([10, 20, 30, 40])\n",
    "print(a)\n",
    "print(a[1])  ## 20\n",
    "print(a[1:3]) ## [20 30]"
   ]
  },
  {
   "cell_type": "code",
   "execution_count": null,
   "id": "c954f1ea",
   "metadata": {},
   "outputs": [
    {
     "name": "stdout",
     "output_type": "stream",
     "text": [
      "Indexing in b matrix\n",
      "[[1 2 3]\n",
      " [4 5 6]]\n",
      "\n",
      "6\n",
      "\n",
      "[2 5]\n"
     ]
    }
   ],
   "source": [
    "print('Indexing in b matrix')\n",
    "b = np.array([[1, 2, 3], [4, 5, 6]])\n",
    "print(b)\n",
    "print()\n",
    "print(b[1, 2])  \n",
    "print()\n",
    "print(b[:, 1]) "
   ]
  },
  {
   "cell_type": "markdown",
   "id": "3921c0c1",
   "metadata": {},
   "source": [
    "## Basic Operations"
   ]
  },
  {
   "cell_type": "code",
   "execution_count": 20,
   "id": "5f5bcd6b",
   "metadata": {},
   "outputs": [
    {
     "name": "stdout",
     "output_type": "stream",
     "text": [
      "[5 7 9]\n",
      "[ 4 10 18]\n",
      "[1 4 9]\n",
      "32\n"
     ]
    }
   ],
   "source": [
    "a = np.array([1, 2, 3])\n",
    "b = np.array([4, 5, 6])\n",
    "\n",
    "print(a + b)\n",
    "print(a * b)\n",
    "print(a ** 2)\n",
    "print(np.dot(a, b))  ## 1 * 4 + 2 * 5 + 3 * 6 = 4 + 10 + 18 = 32"
   ]
  },
  {
   "cell_type": "markdown",
   "id": "feb06db2",
   "metadata": {},
   "source": [
    "## Useful Functions"
   ]
  },
  {
   "cell_type": "code",
   "execution_count": null,
   "id": "2c5671ca",
   "metadata": {},
   "outputs": [],
   "source": [
    "a = np.array([1, 2, 3])\n",
    "print(np.mean(a))   ## obtain the mean of the array\n",
    "print(np.median(a))  ## obtain the median of the array\n",
    "print(np.std(a)) ## obtain the standard deviation of the array\n",
    "print(np.max(a)) ## obtain the max value of the array\n",
    "print(np.min(a)) ## obtain the min value of the array"
   ]
  },
  {
   "cell_type": "markdown",
   "id": "f4c8d188",
   "metadata": {},
   "source": [
    "## Reshaping and Flattening"
   ]
  },
  {
   "cell_type": "code",
   "execution_count": 23,
   "id": "c8abaabe",
   "metadata": {},
   "outputs": [
    {
     "name": "stdout",
     "output_type": "stream",
     "text": [
      "[[1 2]\n",
      " [3 4]\n",
      " [5 6]]\n",
      "Reshaped:\n",
      " [[1 2 3]\n",
      " [4 5 6]]\n",
      "Flattened: [1 2 3 4 5 6]\n"
     ]
    }
   ],
   "source": [
    "arr = np.array([[1, 2], [3, 4], [5, 6]])\n",
    "print(arr)\n",
    "\n",
    "reshaped = arr.reshape((2, 3))  ## reshape the 3 * 2 matrix into 2 * 3 matrix\n",
    "flattened = arr.flatten() ## convert 2d matrix into 1d matrix.\n",
    "\n",
    "print(\"Reshaped:\\n\", reshaped)\n",
    "print(\"Flattened:\", flattened)"
   ]
  },
  {
   "cell_type": "markdown",
   "id": "d4c13db7",
   "metadata": {},
   "source": [
    "## Random Module"
   ]
  },
  {
   "cell_type": "code",
   "execution_count": 25,
   "id": "1fac1fae",
   "metadata": {},
   "outputs": [
    {
     "name": "stdout",
     "output_type": "stream",
     "text": [
      "[[0.15995141 0.75964905]\n",
      " [0.05751387 0.81522878]]\n",
      "[4 7 8 3 0]\n"
     ]
    }
   ],
   "source": [
    "print(np.random.rand(2, 2))  ## create 2 * 2 matrix and fill elements with random numbers\n",
    "print(np.random.randint(0, 10, 5)) ## create 1d matrix of 5 elements with random number between 0 and 10"
   ]
  },
  {
   "cell_type": "markdown",
   "id": "013a8cee",
   "metadata": {},
   "source": [
    "## Exercise\n",
    "**Task**: Create a 1D NumPy array of 10 random integers between 1 and 100. Find its mean, max, and sort the array."
   ]
  },
  {
   "cell_type": "code",
   "execution_count": 28,
   "id": "14e36ce7",
   "metadata": {},
   "outputs": [
    {
     "name": "stdout",
     "output_type": "stream",
     "text": [
      "Array: [75 52 42 16 32 12 59 42 89 75]\n",
      "Mean: 49.4\n",
      "Max: 89\n",
      "Sorted: [12 16 32 42 42 52 59 75 75 89]\n"
     ]
    }
   ],
   "source": [
    "arr = np.random.randint(1, 100, 10)\n",
    "print(\"Array:\", arr)\n",
    "print(\"Mean:\", np.mean(arr))\n",
    "print(\"Max:\", np.max(arr))\n",
    "print(\"Sorted:\", np.sort(arr))"
   ]
  },
  {
   "cell_type": "code",
   "execution_count": null,
   "id": "3c986bb7",
   "metadata": {},
   "outputs": [],
   "source": []
  }
 ],
 "metadata": {
  "kernelspec": {
   "display_name": "python_tutorial",
   "language": "python",
   "name": "python3"
  },
  "language_info": {
   "codemirror_mode": {
    "name": "ipython",
    "version": 3
   },
   "file_extension": ".py",
   "mimetype": "text/x-python",
   "name": "python",
   "nbconvert_exporter": "python",
   "pygments_lexer": "ipython3",
   "version": "3.13.4"
  }
 },
 "nbformat": 4,
 "nbformat_minor": 5
}
