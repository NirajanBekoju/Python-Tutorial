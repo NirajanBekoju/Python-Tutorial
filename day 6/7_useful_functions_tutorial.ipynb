{
 "cells": [
  {
   "cell_type": "markdown",
   "id": "7a1d702e",
   "metadata": {},
   "source": [
    "# Useful Functions Tutorial"
   ]
  },
  {
   "cell_type": "markdown",
   "id": "69a23d11",
   "metadata": {},
   "source": [
    "## 1. Pure Functions: Characteristics and Benefits\n",
    "\n",
    "- A **pure function** is a function where the output value is determined only by its input values.\n",
    "- It has **no side effects** (does not modify external state).\n",
    "- Benefits include:\n",
    "  - Easier to test and debug\n",
    "  - Predictable output --> Always give the same output for the same input"
   ]
  },
  {
   "cell_type": "code",
   "execution_count": 1,
   "id": "166062b1",
   "metadata": {},
   "outputs": [
    {
     "name": "stdout",
     "output_type": "stream",
     "text": [
      "5\n"
     ]
    }
   ],
   "source": [
    "def add(a, b):\n",
    "    return a + b\n",
    "\n",
    "print(add(2, 3))  # 5"
   ]
  },
  {
   "cell_type": "code",
   "execution_count": 2,
   "id": "5eb3e2c8",
   "metadata": {},
   "outputs": [
    {
     "name": "stdout",
     "output_type": "stream",
     "text": [
      "1\n",
      "2\n"
     ]
    }
   ],
   "source": [
    "### Non-Pure Function Example\n",
    "# - The following function modifies a global variable, which makes it **impure**:\n",
    "\n",
    "count = 0\n",
    "\n",
    "def increment():\n",
    "    global count\n",
    "    count += 1\n",
    "    return count\n",
    "\n",
    "print(increment())  # 1\n",
    "print(increment())  # 2"
   ]
  },
  {
   "cell_type": "markdown",
   "id": "268e6fc5",
   "metadata": {},
   "source": [
    "## Exercise 1\n",
    "#### Q1: Write a pure function that multiplies three numbers."
   ]
  },
  {
   "cell_type": "markdown",
   "id": "78bcdd7b",
   "metadata": {},
   "source": [
    "## 2. Lambda Expressions: Anonymous Functions\n",
    "\n",
    "- Lambda functions are small, unnamed functions defined using the `lambda` keyword.\n",
    "- Syntax: `lambda arguments: expression`\n",
    "\n",
    "**Limitations:**\n",
    "- You cannot use statements like if, for, while, return, etc., directly inside a lambda.\n",
    "\n",
    "- You can only have expressions, not multiple lines of logic.\n",
    "\n"
   ]
  },
  {
   "cell_type": "code",
   "execution_count": 5,
   "id": "31345a93",
   "metadata": {},
   "outputs": [
    {
     "name": "stdout",
     "output_type": "stream",
     "text": [
      "5\n"
     ]
    }
   ],
   "source": [
    "add = lambda a, b: a + b\n",
    "print(add(2, 3))  # 5"
   ]
  },
  {
   "cell_type": "markdown",
   "id": "f4fd1e36",
   "metadata": {},
   "source": [
    "### Exercise 2\n",
    "#### Q2: Write a lambda function that returns the cube of a number."
   ]
  },
  {
   "cell_type": "markdown",
   "id": "7c50c4f9",
   "metadata": {},
   "source": [
    "## 3. Functional Tools: `map()`, `filter()`, `zip()`, `reduce()`"
   ]
  },
  {
   "cell_type": "markdown",
   "id": "f59440b8",
   "metadata": {},
   "source": [
    "---\n",
    "## map()\n",
    "- Applies a function to each item in an iterable."
   ]
  },
  {
   "cell_type": "code",
   "execution_count": 13,
   "id": "8081197c",
   "metadata": {},
   "outputs": [
    {
     "name": "stdout",
     "output_type": "stream",
     "text": [
      "[1, 4, 9, 16, 25]\n"
     ]
    }
   ],
   "source": [
    "nums = [1, 2, 3, 4, 5]\n",
    "squares = list(map(lambda x: x**2, nums))\n",
    "print(squares)"
   ]
  },
  {
   "cell_type": "code",
   "execution_count": 17,
   "id": "00016d50",
   "metadata": {},
   "outputs": [
    {
     "name": "stdout",
     "output_type": "stream",
     "text": [
      "[25, 36, 49, 64]\n"
     ]
    }
   ],
   "source": [
    "nums = [5, 6, 7, 8]\n",
    "\n",
    "def squareFunction(x):\n",
    "    return x ** 2\n",
    "\n",
    "squares = list(map(squareFunction, nums))\n",
    "print(squares)"
   ]
  },
  {
   "cell_type": "code",
   "execution_count": 21,
   "id": "a281261c",
   "metadata": {},
   "outputs": [
    {
     "data": {
      "text/plain": [
       "<map at 0x70091025c1c0>"
      ]
     },
     "execution_count": 21,
     "metadata": {},
     "output_type": "execute_result"
    }
   ],
   "source": [
    "### returns map object\n",
    "map(squareFunction, nums)"
   ]
  },
  {
   "cell_type": "code",
   "execution_count": 22,
   "id": "f82b8cc5",
   "metadata": {},
   "outputs": [
    {
     "name": "stdout",
     "output_type": "stream",
     "text": [
      "1\n",
      "4\n",
      "9\n",
      "16\n",
      "25\n",
      "36\n"
     ]
    }
   ],
   "source": [
    "for i in map(squareFunction, nums):\n",
    "    print(i)"
   ]
  },
  {
   "cell_type": "markdown",
   "id": "62089879",
   "metadata": {},
   "source": [
    "### Exercise 3\n",
    "#### 1. Use `map()` to square each number in a list of integers.\n",
    "\n",
    "Example input: `[1, 2, 3, 4, 5]`  \n",
    "Expected output: `[1, 4, 9, 16, 25]`\n",
    "\n",
    "### 2. Use `map()` to convert a list of strings to uppercase.\n",
    "\n",
    "Example input: `['apple', 'banana', 'cherry']`  \n",
    "Expected output: `['APPLE', 'BANANA', 'CHERRY']`\n",
    "\n",
    "\n",
    "#### 3. Use `map()` to convert a list of temperatures from Celsius to Fahrenheit.\n",
    "```\n",
    "Formula : Fahrenheit = (Celsius * 9/5) + 32 \n",
    "```"
   ]
  },
  {
   "cell_type": "markdown",
   "id": "528f52b2",
   "metadata": {},
   "source": [
    "\n",
    "---\n",
    "## filter()\n",
    "- Filters items based on a condition."
   ]
  },
  {
   "cell_type": "code",
   "execution_count": 14,
   "id": "2cfaf202",
   "metadata": {},
   "outputs": [
    {
     "name": "stdout",
     "output_type": "stream",
     "text": [
      "[2, 4, 6]\n"
     ]
    }
   ],
   "source": [
    "nums = [1, 2, 3, 4, 5, 6]\n",
    "even_nums = list(filter(lambda x: x % 2 == 0, nums))\n",
    "print(even_nums)"
   ]
  },
  {
   "cell_type": "code",
   "execution_count": 18,
   "id": "00d31b9e",
   "metadata": {},
   "outputs": [
    {
     "name": "stdout",
     "output_type": "stream",
     "text": [
      "[2, 4, 6]\n"
     ]
    }
   ],
   "source": [
    "def divisbleBy2(x):\n",
    "    return x % 2 == 0\n",
    "\n",
    "nums = [1, 2, 3, 4, 5, 6]\n",
    "even_nums = list(filter(divisbleBy2, nums))\n",
    "print(even_nums)"
   ]
  },
  {
   "cell_type": "markdown",
   "id": "8a6b840d",
   "metadata": {},
   "source": [
    "## Exercise\n",
    "#### 1. Use `filter()` to extract all non-empty strings from a list (i.e., remove empty strings).\n",
    "\n",
    "Example input: `['apple', '', 'banana', '', 'cherry', '']`  \n",
    "Expected output: `['apple', 'banana', 'cherry']`\n",
    "\n",
    "\n",
    "#### 2. Use `filter()` to extract all numbers divisible by 3 from a list.\n",
    "\n",
    "Example input: `[1, 3, 6, 7, 9, 11, 12]`  \n",
    "Expected output: `[3, 6, 9, 12]`\n",
    "\n",
    "#### 3: Use `filter()` to extract all strings from a list that start with the letter 'A'.\n",
    "\n",
    "Example input: `['Apple', 'Banana', 'Avocado', 'Cherry', 'Apricot']`  \n",
    "Expected output: `['Apple', 'Avocado', 'Apricot']`\n",
    "\n",
    "\n",
    "#### 4. Use `filter()` to extract all prime numbers from a list of integers.\n",
    "\n",
    "Example input: `[2, 3, 4, 5, 6, 7, 8, 9, 10]`  \n",
    "Expected output: `[2, 3, 5, 7]`\n",
    "\n",
    "\n",
    "\n"
   ]
  },
  {
   "cell_type": "markdown",
   "id": "e78de1df",
   "metadata": {},
   "source": [
    "---\n",
    "## zip()\n",
    "- Combines multiple iterables into tuples."
   ]
  },
  {
   "cell_type": "code",
   "execution_count": 8,
   "id": "184117fa",
   "metadata": {},
   "outputs": [
    {
     "name": "stdout",
     "output_type": "stream",
     "text": [
      "[('Alice', 85), ('Bob', 90), ('Charlie', 95), ('John', 100)]\n"
     ]
    }
   ],
   "source": [
    "names = ['Alice', 'Bob', 'Charlie', 'John']\n",
    "scores = [85, 90, 95, 100, 150]\n",
    "combined = list(zip(names, scores))\n",
    "print(combined) "
   ]
  },
  {
   "cell_type": "markdown",
   "id": "41076dcb",
   "metadata": {},
   "source": [
    "---\n",
    "## reduce()\n",
    "- Reduces an iterable to a single value using a function.\n",
    "- Needs to be imported from `functools`."
   ]
  },
  {
   "cell_type": "code",
   "execution_count": 15,
   "id": "93f1d9d3",
   "metadata": {},
   "outputs": [
    {
     "name": "stdout",
     "output_type": "stream",
     "text": [
      "24\n"
     ]
    }
   ],
   "source": [
    "from functools import reduce\n",
    "\n",
    "nums = [1, 2, 3, 4]\n",
    "product = reduce(lambda x, y: x * y, nums)\n",
    "print(product) "
   ]
  },
  {
   "cell_type": "markdown",
   "id": "35db5758",
   "metadata": {},
   "source": [
    "#### 1: Use `reduce()` to compute the product of all elements in a list.\n",
    "\n",
    "Example input: `[1, 2, 3, 4, 5]`  \n",
    "Expected output: `120`\n",
    "\n",
    "#### 2. Write a function that uses reduce to find the maximum number in a list.\n",
    "\n",
    "**Hint: Use Ternary Operator**\n",
    "```\n",
    "x = a if condition else b\n",
    "```"
   ]
  },
  {
   "cell_type": "markdown",
   "id": "caadbd6a",
   "metadata": {},
   "source": [
    "## Summary\n",
    "- **Pure functions** are predictable and side-effect-free.\n",
    "- **Lambda** functions are concise one-line functions.\n",
    "- Functional tools like **map**, **filter**, **zip**, and **reduce** are powerful when working with iterables."
   ]
  }
 ],
 "metadata": {
  "kernelspec": {
   "display_name": "python_tutorial",
   "language": "python",
   "name": "python3"
  },
  "language_info": {
   "codemirror_mode": {
    "name": "ipython",
    "version": 3
   },
   "file_extension": ".py",
   "mimetype": "text/x-python",
   "name": "python",
   "nbconvert_exporter": "python",
   "pygments_lexer": "ipython3",
   "version": "3.13.4"
  }
 },
 "nbformat": 4,
 "nbformat_minor": 5
}
